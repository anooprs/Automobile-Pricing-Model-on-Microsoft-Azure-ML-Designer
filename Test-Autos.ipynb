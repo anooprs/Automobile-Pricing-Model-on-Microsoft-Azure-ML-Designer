{
 "cells": [
  {
   "cell_type": "code",
   "execution_count": 2,
   "metadata": {
    "gather": {
     "logged": 1606112504697
    }
   },
   "outputs": [
    {
     "name": "stdout",
     "output_type": "stream",
     "text": [
      "b'{\"Results\": {\"output1\": [{\"predicted_price\": 14997.20010563118}]}}'\n"
     ]
    }
   ],
   "source": [
    "import urllib.request\r\n",
    "import json\r\n",
    "import os\r\n",
    "import ssl\r\n",
    "\r\n",
    "def allowSelfSignedHttps(allowed):\r\n",
    "    # bypass the server certificate verification on client side\r\n",
    "    if allowed and not os.environ.get('PYTHONHTTPSVERIFY', '') and getattr(ssl, '_create_unverified_context', None):\r\n",
    "        ssl._create_default_https_context = ssl._create_unverified_context\r\n",
    "\r\n",
    "allowSelfSignedHttps(True) # this line is needed if you use self-signed certificate in your scoring service.\r\n",
    "\r\n",
    "data = {\r\n",
    "    \"Inputs\": {\r\n",
    "          \"WebServiceInput0\":\r\n",
    "          [\r\n",
    "              {\r\n",
    "                    'symboling': \"3\",\r\n",
    "                    'normalized-losses': \"1\",\r\n",
    "                    'make': \"alfa-romero\",\r\n",
    "                    'fuel-type': \"gas\",\r\n",
    "                    'aspiration': \"std\",\r\n",
    "                    'num-of-doors': \"two\",\r\n",
    "                    'body-style': \"convertible\",\r\n",
    "                    'drive-wheels': \"rwd\",\r\n",
    "                    'engine-location': \"front\",\r\n",
    "                    'wheel-base': \"88.6\",\r\n",
    "                    'length': \"168.8\",\r\n",
    "                    'width': \"64.1\",\r\n",
    "                    'height': \"48.8\",\r\n",
    "                    'curb-weight': \"2548\",\r\n",
    "                    'engine-type': \"dohc\",\r\n",
    "                    'num-of-cylinders': \"four\",\r\n",
    "                    'engine-size': \"130\",\r\n",
    "                    'fuel-system': \"mpfi\",\r\n",
    "                    'bore': \"3.47\",\r\n",
    "                    'stroke': \"2.68\",\r\n",
    "                    'compression-ratio': \"9\",\r\n",
    "                    'horsepower': \"111\",\r\n",
    "                    'peak-rpm': \"5000\",\r\n",
    "                    'city-mpg': \"21\",\r\n",
    "                    'highway-mpg': \"27\",\r\n",
    "              },\r\n",
    "          ],\r\n",
    "    },\r\n",
    "    \"GlobalParameters\":  {\r\n",
    "    }\r\n",
    "}\r\n",
    "\r\n",
    "body = str.encode(json.dumps(data))\r\n",
    "\r\n",
    "url = 'http://13.90.45.204:80/api/v1/service/predict-auto-price/score'\r\n",
    "api_key = 'pa66nx0ldrAFFppgJe9w1vjzcfLPk02b' # Replace this with the API key for the web service\r\n",
    "headers = {'Content-Type':'application/json', 'Authorization':('Bearer '+ api_key)}\r\n",
    "\r\n",
    "req = urllib.request.Request(url, body, headers)\r\n",
    "\r\n",
    "try:\r\n",
    "    response = urllib.request.urlopen(req)\r\n",
    "\r\n",
    "    result = response.read()\r\n",
    "    print(result)\r\n",
    "except urllib.error.HTTPError as error:\r\n",
    "    print(\"The request failed with status code: \" + str(error.code))\r\n",
    "\r\n",
    "    # Print the headers - they include the requert ID and the timestamp, which are useful for debugging the failure\r\n",
    "    print(error.info())\r\n",
    "    print(json.loads(error.read().decode(\"utf8\", 'ignore')))"
   ]
  },
  {
   "cell_type": "code",
   "execution_count": null,
   "metadata": {},
   "outputs": [],
   "source": []
  }
 ],
 "metadata": {
  "kernel_info": {
   "name": "python3-azureml"
  },
  "kernelspec": {
   "display_name": "Python 3.6 - AzureML",
   "language": "python",
   "name": "python3-azureml"
  },
  "language_info": {
   "codemirror_mode": {
    "name": "ipython",
    "version": 3
   },
   "file_extension": ".py",
   "mimetype": "text/x-python",
   "name": "python",
   "nbconvert_exporter": "python",
   "pygments_lexer": "ipython3",
   "version": "3.6.9"
  },
  "nteract": {
   "version": "nteract-front-end@1.0.0"
  }
 },
 "nbformat": 4,
 "nbformat_minor": 4
}
